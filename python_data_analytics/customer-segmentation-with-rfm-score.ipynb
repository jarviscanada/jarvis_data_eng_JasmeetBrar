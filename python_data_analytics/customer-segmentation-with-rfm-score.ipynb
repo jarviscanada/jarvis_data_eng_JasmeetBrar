{
 "cells": [
  {
   "source": [
    "# Business Problem\n",
    "\n",
    "An e-commerce company wants to segment its customers and determine marketing strategies according to these segments.\n",
    "\n",
    "For this, we will define the behavior of customers and create groups according to the clusters in these behaviors.\n",
    "\n",
    "In other words, we will take those who exhibit common behaviors into the same groups and we will try to develop sales and marketing specific techniques to these groups."
   ],
   "cell_type": "markdown",
   "metadata": {
    "tags": []
   }
  },
  {
   "cell_type": "code",
   "execution_count": 37,
   "metadata": {},
   "outputs": [],
   "source": [
    "#installation of libraries\n",
    "import pandas as pd\n",
    "import numpy as np\n",
    "import seaborn as sns\n",
    "\n",
    "#to display all columns and rows:\n",
    "pd.set_option('display.max_columns', None); pd.set_option('display.max_rows', None);\n",
    "\n",
    "#we determined how many numbers to show after comma\n",
    "pd.set_option('display.float_format', lambda x: '%.0f' % x)\n",
    "import matplotlib.pyplot as plt"
   ]
  },
  {
   "cell_type": "code",
   "execution_count": 38,
   "metadata": {},
   "outputs": [],
   "source": [
    "#calling the dataset\n",
    "df = pd.read_csv(\"data/online_retail_II.csv\")"
   ]
  },
  {
   "cell_type": "markdown",
   "metadata": {},
   "source": [
    "# Data Understanding"
   ]
  },
  {
   "cell_type": "code",
   "execution_count": 39,
   "metadata": {},
   "outputs": [
    {
     "output_type": "execute_result",
     "data": {
      "text/plain": [
       "  Invoice StockCode                          Description  Quantity  \\\n",
       "0  489434     85048  15CM CHRISTMAS GLASS BALL 20 LIGHTS        12   \n",
       "1  489434    79323P                   PINK CHERRY LIGHTS        12   \n",
       "2  489434    79323W                  WHITE CHERRY LIGHTS        12   \n",
       "3  489434     22041         RECORD FRAME 7\" SINGLE SIZE         48   \n",
       "4  489434     21232       STRAWBERRY CERAMIC TRINKET BOX        24   \n",
       "\n",
       "           InvoiceDate  Price  Customer ID         Country  \n",
       "0  2009-12-01 07:45:00      7        13085  United Kingdom  \n",
       "1  2009-12-01 07:45:00      7        13085  United Kingdom  \n",
       "2  2009-12-01 07:45:00      7        13085  United Kingdom  \n",
       "3  2009-12-01 07:45:00      2        13085  United Kingdom  \n",
       "4  2009-12-01 07:45:00      1        13085  United Kingdom  "
      ],
      "text/html": "<div>\n<style scoped>\n    .dataframe tbody tr th:only-of-type {\n        vertical-align: middle;\n    }\n\n    .dataframe tbody tr th {\n        vertical-align: top;\n    }\n\n    .dataframe thead th {\n        text-align: right;\n    }\n</style>\n<table border=\"1\" class=\"dataframe\">\n  <thead>\n    <tr style=\"text-align: right;\">\n      <th></th>\n      <th>Invoice</th>\n      <th>StockCode</th>\n      <th>Description</th>\n      <th>Quantity</th>\n      <th>InvoiceDate</th>\n      <th>Price</th>\n      <th>Customer ID</th>\n      <th>Country</th>\n    </tr>\n  </thead>\n  <tbody>\n    <tr>\n      <th>0</th>\n      <td>489434</td>\n      <td>85048</td>\n      <td>15CM CHRISTMAS GLASS BALL 20 LIGHTS</td>\n      <td>12</td>\n      <td>2009-12-01 07:45:00</td>\n      <td>7</td>\n      <td>13085</td>\n      <td>United Kingdom</td>\n    </tr>\n    <tr>\n      <th>1</th>\n      <td>489434</td>\n      <td>79323P</td>\n      <td>PINK CHERRY LIGHTS</td>\n      <td>12</td>\n      <td>2009-12-01 07:45:00</td>\n      <td>7</td>\n      <td>13085</td>\n      <td>United Kingdom</td>\n    </tr>\n    <tr>\n      <th>2</th>\n      <td>489434</td>\n      <td>79323W</td>\n      <td>WHITE CHERRY LIGHTS</td>\n      <td>12</td>\n      <td>2009-12-01 07:45:00</td>\n      <td>7</td>\n      <td>13085</td>\n      <td>United Kingdom</td>\n    </tr>\n    <tr>\n      <th>3</th>\n      <td>489434</td>\n      <td>22041</td>\n      <td>RECORD FRAME 7\" SINGLE SIZE</td>\n      <td>48</td>\n      <td>2009-12-01 07:45:00</td>\n      <td>2</td>\n      <td>13085</td>\n      <td>United Kingdom</td>\n    </tr>\n    <tr>\n      <th>4</th>\n      <td>489434</td>\n      <td>21232</td>\n      <td>STRAWBERRY CERAMIC TRINKET BOX</td>\n      <td>24</td>\n      <td>2009-12-01 07:45:00</td>\n      <td>1</td>\n      <td>13085</td>\n      <td>United Kingdom</td>\n    </tr>\n  </tbody>\n</table>\n</div>"
     },
     "metadata": {},
     "execution_count": 39
    }
   ],
   "source": [
    "#selection of the first 5 observations\n",
    "df.head() "
   ]
  },
  {
   "cell_type": "code",
   "execution_count": 40,
   "metadata": {},
   "outputs": [
    {
     "output_type": "execute_result",
     "data": {
      "text/plain": [
       "                                    Quantity\n",
       "Description                                 \n",
       "WORLD WAR 2 GLIDERS ASSTD DESIGNS     108545\n",
       "WHITE HANGING HEART T-LIGHT HOLDER     93050\n",
       "ASSORTED COLOUR BIRD ORNAMENT          81306\n",
       "JUMBO BAG RED RETROSPOT                78090\n",
       "BROCADE RING PURSE                     70700"
      ],
      "text/html": "<div>\n<style scoped>\n    .dataframe tbody tr th:only-of-type {\n        vertical-align: middle;\n    }\n\n    .dataframe tbody tr th {\n        vertical-align: top;\n    }\n\n    .dataframe thead th {\n        text-align: right;\n    }\n</style>\n<table border=\"1\" class=\"dataframe\">\n  <thead>\n    <tr style=\"text-align: right;\">\n      <th></th>\n      <th>Quantity</th>\n    </tr>\n    <tr>\n      <th>Description</th>\n      <th></th>\n    </tr>\n  </thead>\n  <tbody>\n    <tr>\n      <th>WORLD WAR 2 GLIDERS ASSTD DESIGNS</th>\n      <td>108545</td>\n    </tr>\n    <tr>\n      <th>WHITE HANGING HEART T-LIGHT HOLDER</th>\n      <td>93050</td>\n    </tr>\n    <tr>\n      <th>ASSORTED COLOUR BIRD ORNAMENT</th>\n      <td>81306</td>\n    </tr>\n    <tr>\n      <th>JUMBO BAG RED RETROSPOT</th>\n      <td>78090</td>\n    </tr>\n    <tr>\n      <th>BROCADE RING PURSE</th>\n      <td>70700</td>\n    </tr>\n  </tbody>\n</table>\n</div>"
     },
     "metadata": {},
     "execution_count": 40
    }
   ],
   "source": [
    "#ranking of the most ordered products\n",
    "df.groupby(\"Description\").agg({\"Quantity\":\"sum\"}).sort_values(\"Quantity\", ascending = False).head()"
   ]
  },
  {
   "cell_type": "code",
   "execution_count": 41,
   "metadata": {},
   "outputs": [
    {
     "output_type": "execute_result",
     "data": {
      "text/plain": [
       "53628"
      ]
     },
     "metadata": {},
     "execution_count": 41
    }
   ],
   "source": [
    "#how many invoices are there in the data set\n",
    "df[\"Invoice\"].nunique()"
   ]
  },
  {
   "cell_type": "code",
   "execution_count": 42,
   "metadata": {},
   "outputs": [
    {
     "output_type": "execute_result",
     "data": {
      "text/plain": [
       "         Invoice     StockCode   Description  Quantity          InvoiceDate  \\\n",
       "748142   C556445             M        Manual        -1  2011-06-10 15:31:00   \n",
       "241827    512771             M        Manual         1  2010-06-17 16:53:00   \n",
       "241824   C512770             M        Manual        -1  2010-06-17 16:52:00   \n",
       "320581   C520667  BANK CHARGES  Bank Charges        -1  2010-08-27 13:42:00   \n",
       "1050063  C580605     AMAZONFEE    AMAZON FEE        -1  2011-12-05 11:36:00   \n",
       "\n",
       "         Price  Customer ID         Country  \n",
       "748142   38970        15098  United Kingdom  \n",
       "241827   25111          NaN  United Kingdom  \n",
       "241824   25111        17399  United Kingdom  \n",
       "320581   18911          NaN  United Kingdom  \n",
       "1050063  17836          NaN  United Kingdom  "
      ],
      "text/html": "<div>\n<style scoped>\n    .dataframe tbody tr th:only-of-type {\n        vertical-align: middle;\n    }\n\n    .dataframe tbody tr th {\n        vertical-align: top;\n    }\n\n    .dataframe thead th {\n        text-align: right;\n    }\n</style>\n<table border=\"1\" class=\"dataframe\">\n  <thead>\n    <tr style=\"text-align: right;\">\n      <th></th>\n      <th>Invoice</th>\n      <th>StockCode</th>\n      <th>Description</th>\n      <th>Quantity</th>\n      <th>InvoiceDate</th>\n      <th>Price</th>\n      <th>Customer ID</th>\n      <th>Country</th>\n    </tr>\n  </thead>\n  <tbody>\n    <tr>\n      <th>748142</th>\n      <td>C556445</td>\n      <td>M</td>\n      <td>Manual</td>\n      <td>-1</td>\n      <td>2011-06-10 15:31:00</td>\n      <td>38970</td>\n      <td>15098</td>\n      <td>United Kingdom</td>\n    </tr>\n    <tr>\n      <th>241827</th>\n      <td>512771</td>\n      <td>M</td>\n      <td>Manual</td>\n      <td>1</td>\n      <td>2010-06-17 16:53:00</td>\n      <td>25111</td>\n      <td>NaN</td>\n      <td>United Kingdom</td>\n    </tr>\n    <tr>\n      <th>241824</th>\n      <td>C512770</td>\n      <td>M</td>\n      <td>Manual</td>\n      <td>-1</td>\n      <td>2010-06-17 16:52:00</td>\n      <td>25111</td>\n      <td>17399</td>\n      <td>United Kingdom</td>\n    </tr>\n    <tr>\n      <th>320581</th>\n      <td>C520667</td>\n      <td>BANK CHARGES</td>\n      <td>Bank Charges</td>\n      <td>-1</td>\n      <td>2010-08-27 13:42:00</td>\n      <td>18911</td>\n      <td>NaN</td>\n      <td>United Kingdom</td>\n    </tr>\n    <tr>\n      <th>1050063</th>\n      <td>C580605</td>\n      <td>AMAZONFEE</td>\n      <td>AMAZON FEE</td>\n      <td>-1</td>\n      <td>2011-12-05 11:36:00</td>\n      <td>17836</td>\n      <td>NaN</td>\n      <td>United Kingdom</td>\n    </tr>\n  </tbody>\n</table>\n</div>"
     },
     "metadata": {},
     "execution_count": 42
    }
   ],
   "source": [
    "#which are the most expensive products?\n",
    "df.sort_values(\"Price\", ascending = False).head()"
   ]
  },
  {
   "cell_type": "code",
   "execution_count": 43,
   "metadata": {},
   "outputs": [
    {
     "output_type": "execute_result",
     "data": {
      "text/plain": [
       "United Kingdom    981330\n",
       "EIRE               17866\n",
       "Germany            17624\n",
       "France             14330\n",
       "Netherlands         5140\n",
       "Name: Country, dtype: int64"
      ]
     },
     "metadata": {},
     "execution_count": 43
    }
   ],
   "source": [
    "#top 5 countries with the highest number of orders\n",
    "df[\"Country\"].value_counts().head()"
   ]
  },
  {
   "cell_type": "code",
   "execution_count": 44,
   "metadata": {},
   "outputs": [],
   "source": [
    "#total spending was added as a column\n",
    "df['TotalPrice'] = df['Price']*df['Quantity']"
   ]
  },
  {
   "cell_type": "code",
   "execution_count": 45,
   "metadata": {},
   "outputs": [
    {
     "output_type": "execute_result",
     "data": {
      "text/plain": [
       "                TotalPrice\n",
       "Country                   \n",
       "United Kingdom    16382584\n",
       "EIRE                615520\n",
       "Netherlands         548525\n",
       "Germany             417989\n",
       "France              328192"
      ],
      "text/html": "<div>\n<style scoped>\n    .dataframe tbody tr th:only-of-type {\n        vertical-align: middle;\n    }\n\n    .dataframe tbody tr th {\n        vertical-align: top;\n    }\n\n    .dataframe thead th {\n        text-align: right;\n    }\n</style>\n<table border=\"1\" class=\"dataframe\">\n  <thead>\n    <tr style=\"text-align: right;\">\n      <th></th>\n      <th>TotalPrice</th>\n    </tr>\n    <tr>\n      <th>Country</th>\n      <th></th>\n    </tr>\n  </thead>\n  <tbody>\n    <tr>\n      <th>United Kingdom</th>\n      <td>16382584</td>\n    </tr>\n    <tr>\n      <th>EIRE</th>\n      <td>615520</td>\n    </tr>\n    <tr>\n      <th>Netherlands</th>\n      <td>548525</td>\n    </tr>\n    <tr>\n      <th>Germany</th>\n      <td>417989</td>\n    </tr>\n    <tr>\n      <th>France</th>\n      <td>328192</td>\n    </tr>\n  </tbody>\n</table>\n</div>"
     },
     "metadata": {},
     "execution_count": 45
    }
   ],
   "source": [
    "#which countries did we get the most income from\n",
    "df.groupby(\"Country\").agg({\"TotalPrice\":\"sum\"}).sort_values(\"TotalPrice\", ascending = False).head()"
   ]
  },
  {
   "cell_type": "markdown",
   "metadata": {},
   "source": [
    "# Data Preparation"
   ]
  },
  {
   "cell_type": "code",
   "execution_count": 46,
   "metadata": {},
   "outputs": [
    {
     "output_type": "execute_result",
     "data": {
      "text/plain": [
       "'2009-12-01 07:45:00'"
      ]
     },
     "metadata": {},
     "execution_count": 46
    }
   ],
   "source": [
    "df[\"InvoiceDate\"].min() #oldest shopping date"
   ]
  },
  {
   "cell_type": "code",
   "execution_count": 47,
   "metadata": {},
   "outputs": [
    {
     "output_type": "execute_result",
     "data": {
      "text/plain": [
       "'2011-12-09 12:50:00'"
      ]
     },
     "metadata": {},
     "execution_count": 47
    }
   ],
   "source": [
    "df[\"InvoiceDate\"].max() #newest shopping date"
   ]
  },
  {
   "cell_type": "code",
   "execution_count": 48,
   "metadata": {},
   "outputs": [
    {
     "output_type": "stream",
     "name": "stderr",
     "text": [
      "<ipython-input-48-581e166d8028>:2: FutureWarning: The pandas.datetime class is deprecated and will be removed from pandas in a future version. Import from datetime module instead.\n  today = pd.datetime(2012,1,1)\n"
     ]
    },
    {
     "output_type": "execute_result",
     "data": {
      "text/plain": [
       "datetime.datetime(2012, 1, 1, 0, 0)"
      ]
     },
     "metadata": {},
     "execution_count": 48
    }
   ],
   "source": [
    "#to make the assessment easier, today's date is set as January 1, 2012.  \n",
    "today = pd.datetime(2012,1,1) \n",
    "today"
   ]
  },
  {
   "cell_type": "code",
   "execution_count": 49,
   "metadata": {},
   "outputs": [],
   "source": [
    "#changing the data type of the order date\n",
    "df['InvoiceDate'] = pd.to_datetime(df['InvoiceDate'])"
   ]
  },
  {
   "cell_type": "code",
   "execution_count": 50,
   "metadata": {},
   "outputs": [],
   "source": [
    "#taking values greater than 0, this will be easier in terms of evaluation\n",
    "df = df[df['Quantity'] > 0]\n",
    "df = df[df['TotalPrice'] > 0]"
   ]
  },
  {
   "cell_type": "code",
   "execution_count": 51,
   "metadata": {},
   "outputs": [],
   "source": [
    "df.dropna(inplace = True) #removal of observation units with missing data from df"
   ]
  },
  {
   "cell_type": "code",
   "execution_count": 52,
   "metadata": {},
   "outputs": [
    {
     "output_type": "execute_result",
     "data": {
      "text/plain": [
       "(805549, 9)"
      ]
     },
     "metadata": {},
     "execution_count": 52
    }
   ],
   "source": [
    "df.shape #size information"
   ]
  },
  {
   "cell_type": "code",
   "execution_count": 53,
   "metadata": {},
   "outputs": [
    {
     "output_type": "execute_result",
     "data": {
      "text/plain": [
       "             count  mean  std   min    1%    5%   10%   25%   50%   75%   90%  \\\n",
       "Quantity    805549    13  144     1     1     1     1     2     5    12    24   \n",
       "Price       805549     3   29     0     0     0     1     1     2     4     7   \n",
       "Customer ID 805549 15332 1697 12346 12422 12681 12979 13982 15271 16805 17716   \n",
       "TotalPrice  805549    22  224     0     1     1     2     5    12    20    35   \n",
       "\n",
       "              95%   99%    max  \n",
       "Quantity       36   128  80995  \n",
       "Price           8    15  10954  \n",
       "Customer ID 17913 18204  18287  \n",
       "TotalPrice     68   202 168470  "
      ],
      "text/html": "<div>\n<style scoped>\n    .dataframe tbody tr th:only-of-type {\n        vertical-align: middle;\n    }\n\n    .dataframe tbody tr th {\n        vertical-align: top;\n    }\n\n    .dataframe thead th {\n        text-align: right;\n    }\n</style>\n<table border=\"1\" class=\"dataframe\">\n  <thead>\n    <tr style=\"text-align: right;\">\n      <th></th>\n      <th>count</th>\n      <th>mean</th>\n      <th>std</th>\n      <th>min</th>\n      <th>1%</th>\n      <th>5%</th>\n      <th>10%</th>\n      <th>25%</th>\n      <th>50%</th>\n      <th>75%</th>\n      <th>90%</th>\n      <th>95%</th>\n      <th>99%</th>\n      <th>max</th>\n    </tr>\n  </thead>\n  <tbody>\n    <tr>\n      <th>Quantity</th>\n      <td>805549</td>\n      <td>13</td>\n      <td>144</td>\n      <td>1</td>\n      <td>1</td>\n      <td>1</td>\n      <td>1</td>\n      <td>2</td>\n      <td>5</td>\n      <td>12</td>\n      <td>24</td>\n      <td>36</td>\n      <td>128</td>\n      <td>80995</td>\n    </tr>\n    <tr>\n      <th>Price</th>\n      <td>805549</td>\n      <td>3</td>\n      <td>29</td>\n      <td>0</td>\n      <td>0</td>\n      <td>0</td>\n      <td>1</td>\n      <td>1</td>\n      <td>2</td>\n      <td>4</td>\n      <td>7</td>\n      <td>8</td>\n      <td>15</td>\n      <td>10954</td>\n    </tr>\n    <tr>\n      <th>Customer ID</th>\n      <td>805549</td>\n      <td>15332</td>\n      <td>1697</td>\n      <td>12346</td>\n      <td>12422</td>\n      <td>12681</td>\n      <td>12979</td>\n      <td>13982</td>\n      <td>15271</td>\n      <td>16805</td>\n      <td>17716</td>\n      <td>17913</td>\n      <td>18204</td>\n      <td>18287</td>\n    </tr>\n    <tr>\n      <th>TotalPrice</th>\n      <td>805549</td>\n      <td>22</td>\n      <td>224</td>\n      <td>0</td>\n      <td>1</td>\n      <td>1</td>\n      <td>2</td>\n      <td>5</td>\n      <td>12</td>\n      <td>20</td>\n      <td>35</td>\n      <td>68</td>\n      <td>202</td>\n      <td>168470</td>\n    </tr>\n  </tbody>\n</table>\n</div>"
     },
     "metadata": {},
     "execution_count": 53
    }
   ],
   "source": [
    "df.describe([0.01,0.05,0.10,0.25,0.50,0.75,0.90,0.95, 0.99]).T\n",
    "#explanatory statistics values of the observation units corresponding to the specified percentages\n",
    "#processing according to numerical variables"
   ]
  },
  {
   "cell_type": "markdown",
   "metadata": {},
   "source": [
    "# Finding RFM Score\n",
    "\n",
    "RFM consists of Recency, Frequency, Monetary initials of expressions.\n",
    "\n",
    "It is a technique that helps determine marketing and sales strategies based on buying habits of customers.\n",
    "\n",
    "- Recency: Time since customer last purchase\n",
    "\n",
    "- Frequency: Total number of purchases.\n",
    "\n",
    "- Monetary: Total spending by the customer.\n"
   ]
  },
  {
   "cell_type": "code",
   "execution_count": 54,
   "metadata": {},
   "outputs": [
    {
     "output_type": "execute_result",
     "data": {
      "text/plain": [
       "  Invoice StockCode                          Description  Quantity  \\\n",
       "0  489434     85048  15CM CHRISTMAS GLASS BALL 20 LIGHTS        12   \n",
       "1  489434    79323P                   PINK CHERRY LIGHTS        12   \n",
       "2  489434    79323W                  WHITE CHERRY LIGHTS        12   \n",
       "3  489434     22041         RECORD FRAME 7\" SINGLE SIZE         48   \n",
       "4  489434     21232       STRAWBERRY CERAMIC TRINKET BOX        24   \n",
       "\n",
       "          InvoiceDate  Price  Customer ID         Country  TotalPrice  \n",
       "0 2009-12-01 07:45:00      7        13085  United Kingdom          83  \n",
       "1 2009-12-01 07:45:00      7        13085  United Kingdom          81  \n",
       "2 2009-12-01 07:45:00      7        13085  United Kingdom          81  \n",
       "3 2009-12-01 07:45:00      2        13085  United Kingdom         101  \n",
       "4 2009-12-01 07:45:00      1        13085  United Kingdom          30  "
      ],
      "text/html": "<div>\n<style scoped>\n    .dataframe tbody tr th:only-of-type {\n        vertical-align: middle;\n    }\n\n    .dataframe tbody tr th {\n        vertical-align: top;\n    }\n\n    .dataframe thead th {\n        text-align: right;\n    }\n</style>\n<table border=\"1\" class=\"dataframe\">\n  <thead>\n    <tr style=\"text-align: right;\">\n      <th></th>\n      <th>Invoice</th>\n      <th>StockCode</th>\n      <th>Description</th>\n      <th>Quantity</th>\n      <th>InvoiceDate</th>\n      <th>Price</th>\n      <th>Customer ID</th>\n      <th>Country</th>\n      <th>TotalPrice</th>\n    </tr>\n  </thead>\n  <tbody>\n    <tr>\n      <th>0</th>\n      <td>489434</td>\n      <td>85048</td>\n      <td>15CM CHRISTMAS GLASS BALL 20 LIGHTS</td>\n      <td>12</td>\n      <td>2009-12-01 07:45:00</td>\n      <td>7</td>\n      <td>13085</td>\n      <td>United Kingdom</td>\n      <td>83</td>\n    </tr>\n    <tr>\n      <th>1</th>\n      <td>489434</td>\n      <td>79323P</td>\n      <td>PINK CHERRY LIGHTS</td>\n      <td>12</td>\n      <td>2009-12-01 07:45:00</td>\n      <td>7</td>\n      <td>13085</td>\n      <td>United Kingdom</td>\n      <td>81</td>\n    </tr>\n    <tr>\n      <th>2</th>\n      <td>489434</td>\n      <td>79323W</td>\n      <td>WHITE CHERRY LIGHTS</td>\n      <td>12</td>\n      <td>2009-12-01 07:45:00</td>\n      <td>7</td>\n      <td>13085</td>\n      <td>United Kingdom</td>\n      <td>81</td>\n    </tr>\n    <tr>\n      <th>3</th>\n      <td>489434</td>\n      <td>22041</td>\n      <td>RECORD FRAME 7\" SINGLE SIZE</td>\n      <td>48</td>\n      <td>2009-12-01 07:45:00</td>\n      <td>2</td>\n      <td>13085</td>\n      <td>United Kingdom</td>\n      <td>101</td>\n    </tr>\n    <tr>\n      <th>4</th>\n      <td>489434</td>\n      <td>21232</td>\n      <td>STRAWBERRY CERAMIC TRINKET BOX</td>\n      <td>24</td>\n      <td>2009-12-01 07:45:00</td>\n      <td>1</td>\n      <td>13085</td>\n      <td>United Kingdom</td>\n      <td>30</td>\n    </tr>\n  </tbody>\n</table>\n</div>"
     },
     "metadata": {},
     "execution_count": 54
    }
   ],
   "source": [
    "df.head()"
   ]
  },
  {
   "cell_type": "code",
   "execution_count": 55,
   "metadata": {
    "tags": []
   },
   "outputs": [
    {
     "output_type": "stream",
     "name": "stdout",
     "text": [
      "<class 'pandas.core.frame.DataFrame'>\nInt64Index: 805549 entries, 0 to 1067370\nData columns (total 9 columns):\n #   Column       Non-Null Count   Dtype         \n---  ------       --------------   -----         \n 0   Invoice      805549 non-null  object        \n 1   StockCode    805549 non-null  object        \n 2   Description  805549 non-null  object        \n 3   Quantity     805549 non-null  int64         \n 4   InvoiceDate  805549 non-null  datetime64[ns]\n 5   Price        805549 non-null  float64       \n 6   Customer ID  805549 non-null  float64       \n 7   Country      805549 non-null  object        \n 8   TotalPrice   805549 non-null  float64       \ndtypes: datetime64[ns](1), float64(3), int64(1), object(4)\nmemory usage: 61.5+ MB\n"
     ]
    }
   ],
   "source": [
    "df.info() \n",
    "#dataframe's index dtype and column dtypes, non-null values and memory usage information"
   ]
  },
  {
   "cell_type": "code",
   "execution_count": 56,
   "metadata": {},
   "outputs": [],
   "source": [
    "# finding Recency and Monetary values.\n",
    "df_x = df.groupby('Customer ID').agg({'TotalPrice': lambda x: x.sum(), #monetary value\n",
    "                                        'InvoiceDate': lambda x: (today - x.max()).days}) #recency value\n",
    "#x.max()).days; last shopping date of customers"
   ]
  },
  {
   "cell_type": "code",
   "execution_count": 57,
   "metadata": {},
   "outputs": [],
   "source": [
    "df_y = df.groupby(['Customer ID','Invoice']).agg({'TotalPrice': lambda x: x.sum()})\n",
    "df_z = df_y.groupby('Customer ID').agg({'TotalPrice': lambda x: len(x)}) \n",
    "#finding the frequency value per capita"
   ]
  },
  {
   "cell_type": "code",
   "execution_count": 58,
   "metadata": {},
   "outputs": [],
   "source": [
    "#creating the RFM table\n",
    "rfm_table= pd.merge(df_x,df_z, on='Customer ID')"
   ]
  },
  {
   "cell_type": "code",
   "execution_count": 59,
   "metadata": {},
   "outputs": [],
   "source": [
    "#determination of column names\n",
    "rfm_table.rename(columns= {'InvoiceDate': 'Recency',\n",
    "                          'TotalPrice_y': 'Frequency',\n",
    "                          'TotalPrice_x': 'Monetary'}, inplace= True)"
   ]
  },
  {
   "cell_type": "code",
   "execution_count": 60,
   "metadata": {},
   "outputs": [
    {
     "output_type": "execute_result",
     "data": {
      "text/plain": [
       "             Monetary  Recency  Frequency\n",
       "Customer ID                              \n",
       "12346           77556      347         12\n",
       "12347            5633       24          8\n",
       "12348            2019       97          5\n",
       "12349            4429       40          4\n",
       "12350             334      332          1"
      ],
      "text/html": "<div>\n<style scoped>\n    .dataframe tbody tr th:only-of-type {\n        vertical-align: middle;\n    }\n\n    .dataframe tbody tr th {\n        vertical-align: top;\n    }\n\n    .dataframe thead th {\n        text-align: right;\n    }\n</style>\n<table border=\"1\" class=\"dataframe\">\n  <thead>\n    <tr style=\"text-align: right;\">\n      <th></th>\n      <th>Monetary</th>\n      <th>Recency</th>\n      <th>Frequency</th>\n    </tr>\n    <tr>\n      <th>Customer ID</th>\n      <th></th>\n      <th></th>\n      <th></th>\n    </tr>\n  </thead>\n  <tbody>\n    <tr>\n      <th>12346</th>\n      <td>77556</td>\n      <td>347</td>\n      <td>12</td>\n    </tr>\n    <tr>\n      <th>12347</th>\n      <td>5633</td>\n      <td>24</td>\n      <td>8</td>\n    </tr>\n    <tr>\n      <th>12348</th>\n      <td>2019</td>\n      <td>97</td>\n      <td>5</td>\n    </tr>\n    <tr>\n      <th>12349</th>\n      <td>4429</td>\n      <td>40</td>\n      <td>4</td>\n    </tr>\n    <tr>\n      <th>12350</th>\n      <td>334</td>\n      <td>332</td>\n      <td>1</td>\n    </tr>\n  </tbody>\n</table>\n</div>"
     },
     "metadata": {},
     "execution_count": 60
    }
   ],
   "source": [
    "rfm_table.head()"
   ]
  },
  {
   "cell_type": "markdown",
   "metadata": {},
   "source": [
    "**Table Comment**: The customer with the 12346th Customer ID made a purchase of £ 77.556. The last purchase of this customer is about 1 year ago (347 days) and the number of purchases is 12."
   ]
  },
  {
   "cell_type": "code",
   "execution_count": 61,
   "metadata": {},
   "outputs": [],
   "source": [
    "#RFM score values \n",
    "rfm_table['RecencyScore'] = pd.qcut(rfm_table['Recency'],5,labels=[5,4,3,2,1])\n",
    "rfm_table['FrequencyScore'] = pd.qcut(rfm_table['Frequency'].rank(method=\"first\"),5,labels=[1,2,3,4,5])\n",
    "rfm_table['MonetaryScore'] = pd.qcut(rfm_table['Monetary'],5,labels=[1,2,3,4,5])"
   ]
  },
  {
   "cell_type": "code",
   "execution_count": 62,
   "metadata": {},
   "outputs": [
    {
     "output_type": "execute_result",
     "data": {
      "text/plain": [
       "             Monetary  Recency  Frequency RecencyScore FrequencyScore  \\\n",
       "Customer ID                                                             \n",
       "12346           77556      347         12            2              5   \n",
       "12347            5633       24          8            5              4   \n",
       "12348            2019       97          5            3              4   \n",
       "12349            4429       40          4            5              3   \n",
       "12350             334      332          1            2              1   \n",
       "\n",
       "            MonetaryScore  \n",
       "Customer ID                \n",
       "12346                   5  \n",
       "12347                   5  \n",
       "12348                   4  \n",
       "12349                   5  \n",
       "12350                   2  "
      ],
      "text/html": "<div>\n<style scoped>\n    .dataframe tbody tr th:only-of-type {\n        vertical-align: middle;\n    }\n\n    .dataframe tbody tr th {\n        vertical-align: top;\n    }\n\n    .dataframe thead th {\n        text-align: right;\n    }\n</style>\n<table border=\"1\" class=\"dataframe\">\n  <thead>\n    <tr style=\"text-align: right;\">\n      <th></th>\n      <th>Monetary</th>\n      <th>Recency</th>\n      <th>Frequency</th>\n      <th>RecencyScore</th>\n      <th>FrequencyScore</th>\n      <th>MonetaryScore</th>\n    </tr>\n    <tr>\n      <th>Customer ID</th>\n      <th></th>\n      <th></th>\n      <th></th>\n      <th></th>\n      <th></th>\n      <th></th>\n    </tr>\n  </thead>\n  <tbody>\n    <tr>\n      <th>12346</th>\n      <td>77556</td>\n      <td>347</td>\n      <td>12</td>\n      <td>2</td>\n      <td>5</td>\n      <td>5</td>\n    </tr>\n    <tr>\n      <th>12347</th>\n      <td>5633</td>\n      <td>24</td>\n      <td>8</td>\n      <td>5</td>\n      <td>4</td>\n      <td>5</td>\n    </tr>\n    <tr>\n      <th>12348</th>\n      <td>2019</td>\n      <td>97</td>\n      <td>5</td>\n      <td>3</td>\n      <td>4</td>\n      <td>4</td>\n    </tr>\n    <tr>\n      <th>12349</th>\n      <td>4429</td>\n      <td>40</td>\n      <td>4</td>\n      <td>5</td>\n      <td>3</td>\n      <td>5</td>\n    </tr>\n    <tr>\n      <th>12350</th>\n      <td>334</td>\n      <td>332</td>\n      <td>1</td>\n      <td>2</td>\n      <td>1</td>\n      <td>2</td>\n    </tr>\n  </tbody>\n</table>\n</div>"
     },
     "metadata": {},
     "execution_count": 62
    }
   ],
   "source": [
    "rfm_table.head()"
   ]
  },
  {
   "cell_type": "code",
   "execution_count": 63,
   "metadata": {},
   "outputs": [
    {
     "output_type": "execute_result",
     "data": {
      "text/plain": [
       "Customer ID\n",
       "12346    255\n",
       "12347    545\n",
       "12348    344\n",
       "12349    535\n",
       "12350    212\n",
       "dtype: object"
      ]
     },
     "metadata": {},
     "execution_count": 63
    }
   ],
   "source": [
    "#RFM score values are combined side by side in str format\n",
    "(rfm_table['RecencyScore'].astype(str) + \n",
    " rfm_table['FrequencyScore'].astype(str) + \n",
    " rfm_table['MonetaryScore'].astype(str)).head()"
   ]
  },
  {
   "cell_type": "code",
   "execution_count": 64,
   "metadata": {},
   "outputs": [],
   "source": [
    "#calculation of the RFM score\n",
    "rfm_table[\"RFM_SCORE\"] = rfm_table['RecencyScore'].astype(str) + rfm_table['FrequencyScore'].astype(str) + rfm_table['MonetaryScore'].astype(str)"
   ]
  },
  {
   "cell_type": "code",
   "execution_count": 65,
   "metadata": {},
   "outputs": [
    {
     "output_type": "execute_result",
     "data": {
      "text/plain": [
       "             Monetary  Recency  Frequency RecencyScore FrequencyScore  \\\n",
       "Customer ID                                                             \n",
       "12346           77556      347         12            2              5   \n",
       "12347            5633       24          8            5              4   \n",
       "12348            2019       97          5            3              4   \n",
       "12349            4429       40          4            5              3   \n",
       "12350             334      332          1            2              1   \n",
       "\n",
       "            MonetaryScore RFM_SCORE  \n",
       "Customer ID                          \n",
       "12346                   5       255  \n",
       "12347                   5       545  \n",
       "12348                   4       344  \n",
       "12349                   5       535  \n",
       "12350                   2       212  "
      ],
      "text/html": "<div>\n<style scoped>\n    .dataframe tbody tr th:only-of-type {\n        vertical-align: middle;\n    }\n\n    .dataframe tbody tr th {\n        vertical-align: top;\n    }\n\n    .dataframe thead th {\n        text-align: right;\n    }\n</style>\n<table border=\"1\" class=\"dataframe\">\n  <thead>\n    <tr style=\"text-align: right;\">\n      <th></th>\n      <th>Monetary</th>\n      <th>Recency</th>\n      <th>Frequency</th>\n      <th>RecencyScore</th>\n      <th>FrequencyScore</th>\n      <th>MonetaryScore</th>\n      <th>RFM_SCORE</th>\n    </tr>\n    <tr>\n      <th>Customer ID</th>\n      <th></th>\n      <th></th>\n      <th></th>\n      <th></th>\n      <th></th>\n      <th></th>\n      <th></th>\n    </tr>\n  </thead>\n  <tbody>\n    <tr>\n      <th>12346</th>\n      <td>77556</td>\n      <td>347</td>\n      <td>12</td>\n      <td>2</td>\n      <td>5</td>\n      <td>5</td>\n      <td>255</td>\n    </tr>\n    <tr>\n      <th>12347</th>\n      <td>5633</td>\n      <td>24</td>\n      <td>8</td>\n      <td>5</td>\n      <td>4</td>\n      <td>5</td>\n      <td>545</td>\n    </tr>\n    <tr>\n      <th>12348</th>\n      <td>2019</td>\n      <td>97</td>\n      <td>5</td>\n      <td>3</td>\n      <td>4</td>\n      <td>4</td>\n      <td>344</td>\n    </tr>\n    <tr>\n      <th>12349</th>\n      <td>4429</td>\n      <td>40</td>\n      <td>4</td>\n      <td>5</td>\n      <td>3</td>\n      <td>5</td>\n      <td>535</td>\n    </tr>\n    <tr>\n      <th>12350</th>\n      <td>334</td>\n      <td>332</td>\n      <td>1</td>\n      <td>2</td>\n      <td>1</td>\n      <td>2</td>\n      <td>212</td>\n    </tr>\n  </tbody>\n</table>\n</div>"
     },
     "metadata": {},
     "execution_count": 65
    }
   ],
   "source": [
    "rfm_table.head()"
   ]
  },
  {
   "cell_type": "code",
   "execution_count": 66,
   "metadata": {},
   "outputs": [
    {
     "output_type": "execute_result",
     "data": {
      "text/plain": [
       "           count  mean   std  min  25%  50%  75%    max\n",
       "Monetary    5878  3019 14738    3  349  899 2307 608822\n",
       "Recency     5878   223   209   22   47  117  401    760\n",
       "Frequency   5878     6    13    1    1    3    7    398"
      ],
      "text/html": "<div>\n<style scoped>\n    .dataframe tbody tr th:only-of-type {\n        vertical-align: middle;\n    }\n\n    .dataframe tbody tr th {\n        vertical-align: top;\n    }\n\n    .dataframe thead th {\n        text-align: right;\n    }\n</style>\n<table border=\"1\" class=\"dataframe\">\n  <thead>\n    <tr style=\"text-align: right;\">\n      <th></th>\n      <th>count</th>\n      <th>mean</th>\n      <th>std</th>\n      <th>min</th>\n      <th>25%</th>\n      <th>50%</th>\n      <th>75%</th>\n      <th>max</th>\n    </tr>\n  </thead>\n  <tbody>\n    <tr>\n      <th>Monetary</th>\n      <td>5878</td>\n      <td>3019</td>\n      <td>14738</td>\n      <td>3</td>\n      <td>349</td>\n      <td>899</td>\n      <td>2307</td>\n      <td>608822</td>\n    </tr>\n    <tr>\n      <th>Recency</th>\n      <td>5878</td>\n      <td>223</td>\n      <td>209</td>\n      <td>22</td>\n      <td>47</td>\n      <td>117</td>\n      <td>401</td>\n      <td>760</td>\n    </tr>\n    <tr>\n      <th>Frequency</th>\n      <td>5878</td>\n      <td>6</td>\n      <td>13</td>\n      <td>1</td>\n      <td>1</td>\n      <td>3</td>\n      <td>7</td>\n      <td>398</td>\n    </tr>\n  </tbody>\n</table>\n</div>"
     },
     "metadata": {},
     "execution_count": 66
    }
   ],
   "source": [
    "#transposition of the RFM table. This makes it easier to evaluate.\n",
    "rfm_table.describe().T"
   ]
  },
  {
   "cell_type": "code",
   "execution_count": 67,
   "metadata": {},
   "outputs": [
    {
     "output_type": "execute_result",
     "data": {
      "text/plain": [
       "             Monetary  Recency  Frequency RecencyScore FrequencyScore  \\\n",
       "Customer ID                                                             \n",
       "12362            5356       25         11            5              5   \n",
       "12395            5067       41         15            5              5   \n",
       "12417            6817       25         20            5              5   \n",
       "12433           20581       22         10            5              5   \n",
       "12437           12683       23         39            5              5   \n",
       "\n",
       "            MonetaryScore RFM_SCORE  \n",
       "Customer ID                          \n",
       "12362                   5       555  \n",
       "12395                   5       555  \n",
       "12417                   5       555  \n",
       "12433                   5       555  \n",
       "12437                   5       555  "
      ],
      "text/html": "<div>\n<style scoped>\n    .dataframe tbody tr th:only-of-type {\n        vertical-align: middle;\n    }\n\n    .dataframe tbody tr th {\n        vertical-align: top;\n    }\n\n    .dataframe thead th {\n        text-align: right;\n    }\n</style>\n<table border=\"1\" class=\"dataframe\">\n  <thead>\n    <tr style=\"text-align: right;\">\n      <th></th>\n      <th>Monetary</th>\n      <th>Recency</th>\n      <th>Frequency</th>\n      <th>RecencyScore</th>\n      <th>FrequencyScore</th>\n      <th>MonetaryScore</th>\n      <th>RFM_SCORE</th>\n    </tr>\n    <tr>\n      <th>Customer ID</th>\n      <th></th>\n      <th></th>\n      <th></th>\n      <th></th>\n      <th></th>\n      <th></th>\n      <th></th>\n    </tr>\n  </thead>\n  <tbody>\n    <tr>\n      <th>12362</th>\n      <td>5356</td>\n      <td>25</td>\n      <td>11</td>\n      <td>5</td>\n      <td>5</td>\n      <td>5</td>\n      <td>555</td>\n    </tr>\n    <tr>\n      <th>12395</th>\n      <td>5067</td>\n      <td>41</td>\n      <td>15</td>\n      <td>5</td>\n      <td>5</td>\n      <td>5</td>\n      <td>555</td>\n    </tr>\n    <tr>\n      <th>12417</th>\n      <td>6817</td>\n      <td>25</td>\n      <td>20</td>\n      <td>5</td>\n      <td>5</td>\n      <td>5</td>\n      <td>555</td>\n    </tr>\n    <tr>\n      <th>12433</th>\n      <td>20581</td>\n      <td>22</td>\n      <td>10</td>\n      <td>5</td>\n      <td>5</td>\n      <td>5</td>\n      <td>555</td>\n    </tr>\n    <tr>\n      <th>12437</th>\n      <td>12683</td>\n      <td>23</td>\n      <td>39</td>\n      <td>5</td>\n      <td>5</td>\n      <td>5</td>\n      <td>555</td>\n    </tr>\n  </tbody>\n</table>\n</div>"
     },
     "metadata": {},
     "execution_count": 67
    }
   ],
   "source": [
    "#customers with RFM Score 555\n",
    "rfm_table[rfm_table[\"RFM_SCORE\"] == \"555\"].head()"
   ]
  },
  {
   "cell_type": "code",
   "execution_count": 68,
   "metadata": {},
   "outputs": [
    {
     "output_type": "execute_result",
     "data": {
      "text/plain": [
       "             Monetary  Recency  Frequency RecencyScore FrequencyScore  \\\n",
       "Customer ID                                                             \n",
       "12387             144      437          1            1              1   \n",
       "12392             235      613          1            1              1   \n",
       "12400             205      436          1            1              1   \n",
       "12404              63      704          1            1              1   \n",
       "12416             203      678          1            1              1   \n",
       "\n",
       "            MonetaryScore RFM_SCORE  \n",
       "Customer ID                          \n",
       "12387                   1       111  \n",
       "12392                   1       111  \n",
       "12400                   1       111  \n",
       "12404                   1       111  \n",
       "12416                   1       111  "
      ],
      "text/html": "<div>\n<style scoped>\n    .dataframe tbody tr th:only-of-type {\n        vertical-align: middle;\n    }\n\n    .dataframe tbody tr th {\n        vertical-align: top;\n    }\n\n    .dataframe thead th {\n        text-align: right;\n    }\n</style>\n<table border=\"1\" class=\"dataframe\">\n  <thead>\n    <tr style=\"text-align: right;\">\n      <th></th>\n      <th>Monetary</th>\n      <th>Recency</th>\n      <th>Frequency</th>\n      <th>RecencyScore</th>\n      <th>FrequencyScore</th>\n      <th>MonetaryScore</th>\n      <th>RFM_SCORE</th>\n    </tr>\n    <tr>\n      <th>Customer ID</th>\n      <th></th>\n      <th></th>\n      <th></th>\n      <th></th>\n      <th></th>\n      <th></th>\n      <th></th>\n    </tr>\n  </thead>\n  <tbody>\n    <tr>\n      <th>12387</th>\n      <td>144</td>\n      <td>437</td>\n      <td>1</td>\n      <td>1</td>\n      <td>1</td>\n      <td>1</td>\n      <td>111</td>\n    </tr>\n    <tr>\n      <th>12392</th>\n      <td>235</td>\n      <td>613</td>\n      <td>1</td>\n      <td>1</td>\n      <td>1</td>\n      <td>1</td>\n      <td>111</td>\n    </tr>\n    <tr>\n      <th>12400</th>\n      <td>205</td>\n      <td>436</td>\n      <td>1</td>\n      <td>1</td>\n      <td>1</td>\n      <td>1</td>\n      <td>111</td>\n    </tr>\n    <tr>\n      <th>12404</th>\n      <td>63</td>\n      <td>704</td>\n      <td>1</td>\n      <td>1</td>\n      <td>1</td>\n      <td>1</td>\n      <td>111</td>\n    </tr>\n    <tr>\n      <th>12416</th>\n      <td>203</td>\n      <td>678</td>\n      <td>1</td>\n      <td>1</td>\n      <td>1</td>\n      <td>1</td>\n      <td>111</td>\n    </tr>\n  </tbody>\n</table>\n</div>"
     },
     "metadata": {},
     "execution_count": 68
    }
   ],
   "source": [
    "#customers with RFM Score 111\n",
    "rfm_table[rfm_table[\"RFM_SCORE\"] == \"111\"].head()"
   ]
  },
  {
   "cell_type": "code",
   "execution_count": 69,
   "metadata": {
    "tags": []
   },
   "outputs": [],
   "source": [
    "#segmenting of customers according to RecencyScore and FrequencyScore values\n",
    "seg_map = {\n",
    "    r'[1-2][1-2]': 'Hibernating',\n",
    "    r'[1-2][3-4]': 'At Risk',\n",
    "    r'[1-2]5': 'Can\\'t Lose',\n",
    "    r'3[1-2]': 'About to Sleep',\n",
    "    r'33': 'Need Attention',\n",
    "    r'[3-4][4-5]': 'Loyal Customers',\n",
    "    r'41': 'Promising',\n",
    "    r'51': 'New Customers',\n",
    "    r'[4-5][2-3]': 'Potential Loyalists',\n",
    "    r'5[4-5]': 'Champions'\n",
    "}"
   ]
  },
  {
   "attachments": {
    "Recency%20and%20Frequency%20Grid.png": {
     "image/png": "[encoded data removed]"
    }
   },
   "cell_type": "markdown",
   "metadata": {},
   "source": [
    "![Recency%20and%20Frequency%20Grid.png](attachment:Recency%20and%20Frequency%20Grid.png)"
   ]
  },
  {
   "cell_type": "code",
   "execution_count": 70,
   "metadata": {},
   "outputs": [],
   "source": [
    "#creation of segment variable\n",
    "rfm_table['Segment'] = rfm_table['RecencyScore'].astype(str) + rfm_table['FrequencyScore'].astype(str)\n",
    "rfm_table['Segment'] = rfm_table['Segment'].replace(seg_map, regex=True)"
   ]
  },
  {
   "cell_type": "markdown",
   "metadata": {},
   "source": [
    "With \"regex = True\", we used the names like \"need attention\", \"can't lose\" instead of RFM scores to the data set."
   ]
  },
  {
   "cell_type": "code",
   "execution_count": 71,
   "metadata": {},
   "outputs": [
    {
     "output_type": "execute_result",
     "data": {
      "text/plain": [
       "             Monetary  Recency  Frequency RecencyScore FrequencyScore  \\\n",
       "Customer ID                                                             \n",
       "12346           77556      347         12            2              5   \n",
       "12347            5633       24          8            5              4   \n",
       "12348            2019       97          5            3              4   \n",
       "12349            4429       40          4            5              3   \n",
       "12350             334      332          1            2              1   \n",
       "\n",
       "            MonetaryScore RFM_SCORE              Segment  \n",
       "Customer ID                                               \n",
       "12346                   5       255           Can't Lose  \n",
       "12347                   5       545            Champions  \n",
       "12348                   4       344      Loyal Customers  \n",
       "12349                   5       535  Potential Loyalists  \n",
       "12350                   2       212          Hibernating  "
      ],
      "text/html": "<div>\n<style scoped>\n    .dataframe tbody tr th:only-of-type {\n        vertical-align: middle;\n    }\n\n    .dataframe tbody tr th {\n        vertical-align: top;\n    }\n\n    .dataframe thead th {\n        text-align: right;\n    }\n</style>\n<table border=\"1\" class=\"dataframe\">\n  <thead>\n    <tr style=\"text-align: right;\">\n      <th></th>\n      <th>Monetary</th>\n      <th>Recency</th>\n      <th>Frequency</th>\n      <th>RecencyScore</th>\n      <th>FrequencyScore</th>\n      <th>MonetaryScore</th>\n      <th>RFM_SCORE</th>\n      <th>Segment</th>\n    </tr>\n    <tr>\n      <th>Customer ID</th>\n      <th></th>\n      <th></th>\n      <th></th>\n      <th></th>\n      <th></th>\n      <th></th>\n      <th></th>\n      <th></th>\n    </tr>\n  </thead>\n  <tbody>\n    <tr>\n      <th>12346</th>\n      <td>77556</td>\n      <td>347</td>\n      <td>12</td>\n      <td>2</td>\n      <td>5</td>\n      <td>5</td>\n      <td>255</td>\n      <td>Can't Lose</td>\n    </tr>\n    <tr>\n      <th>12347</th>\n      <td>5633</td>\n      <td>24</td>\n      <td>8</td>\n      <td>5</td>\n      <td>4</td>\n      <td>5</td>\n      <td>545</td>\n      <td>Champions</td>\n    </tr>\n    <tr>\n      <th>12348</th>\n      <td>2019</td>\n      <td>97</td>\n      <td>5</td>\n      <td>3</td>\n      <td>4</td>\n      <td>4</td>\n      <td>344</td>\n      <td>Loyal Customers</td>\n    </tr>\n    <tr>\n      <th>12349</th>\n      <td>4429</td>\n      <td>40</td>\n      <td>4</td>\n      <td>5</td>\n      <td>3</td>\n      <td>5</td>\n      <td>535</td>\n      <td>Potential Loyalists</td>\n    </tr>\n    <tr>\n      <th>12350</th>\n      <td>334</td>\n      <td>332</td>\n      <td>1</td>\n      <td>2</td>\n      <td>1</td>\n      <td>2</td>\n      <td>212</td>\n      <td>Hibernating</td>\n    </tr>\n  </tbody>\n</table>\n</div>"
     },
     "metadata": {},
     "execution_count": 71
    }
   ],
   "source": [
    "rfm_table.head()"
   ]
  },
  {
   "cell_type": "code",
   "execution_count": 72,
   "metadata": {},
   "outputs": [
    {
     "output_type": "execute_result",
     "data": {
      "text/plain": [
       "                    Recency       Frequency       Monetary      \n",
       "                       mean count      mean count     mean count\n",
       "Segment                                                         \n",
       "About to Sleep          129   388         1   388      532   388\n",
       "At Risk                 395   750         4   750     1384   750\n",
       "Can't Lose              353    71        16    71     8356    71\n",
       "Champions                30   852        19   852    10796   852\n",
       "Hibernating             481  1522         1  1522      438  1522\n",
       "Loyal Customers          89  1147        10  1147     4200  1147\n",
       "Need Attention          135   269         3   269     1283   269\n",
       "New Customers            32    56         1    56      356    56\n",
       "Potential Loyalists      47   713         3   713     1155   713\n",
       "Promising                60   110         1   110      324   110"
      ],
      "text/html": "<div>\n<style scoped>\n    .dataframe tbody tr th:only-of-type {\n        vertical-align: middle;\n    }\n\n    .dataframe tbody tr th {\n        vertical-align: top;\n    }\n\n    .dataframe thead tr th {\n        text-align: left;\n    }\n\n    .dataframe thead tr:last-of-type th {\n        text-align: right;\n    }\n</style>\n<table border=\"1\" class=\"dataframe\">\n  <thead>\n    <tr>\n      <th></th>\n      <th colspan=\"2\" halign=\"left\">Recency</th>\n      <th colspan=\"2\" halign=\"left\">Frequency</th>\n      <th colspan=\"2\" halign=\"left\">Monetary</th>\n    </tr>\n    <tr>\n      <th></th>\n      <th>mean</th>\n      <th>count</th>\n      <th>mean</th>\n      <th>count</th>\n      <th>mean</th>\n      <th>count</th>\n    </tr>\n    <tr>\n      <th>Segment</th>\n      <th></th>\n      <th></th>\n      <th></th>\n      <th></th>\n      <th></th>\n      <th></th>\n    </tr>\n  </thead>\n  <tbody>\n    <tr>\n      <th>About to Sleep</th>\n      <td>129</td>\n      <td>388</td>\n      <td>1</td>\n      <td>388</td>\n      <td>532</td>\n      <td>388</td>\n    </tr>\n    <tr>\n      <th>At Risk</th>\n      <td>395</td>\n      <td>750</td>\n      <td>4</td>\n      <td>750</td>\n      <td>1384</td>\n      <td>750</td>\n    </tr>\n    <tr>\n      <th>Can't Lose</th>\n      <td>353</td>\n      <td>71</td>\n      <td>16</td>\n      <td>71</td>\n      <td>8356</td>\n      <td>71</td>\n    </tr>\n    <tr>\n      <th>Champions</th>\n      <td>30</td>\n      <td>852</td>\n      <td>19</td>\n      <td>852</td>\n      <td>10796</td>\n      <td>852</td>\n    </tr>\n    <tr>\n      <th>Hibernating</th>\n      <td>481</td>\n      <td>1522</td>\n      <td>1</td>\n      <td>1522</td>\n      <td>438</td>\n      <td>1522</td>\n    </tr>\n    <tr>\n      <th>Loyal Customers</th>\n      <td>89</td>\n      <td>1147</td>\n      <td>10</td>\n      <td>1147</td>\n      <td>4200</td>\n      <td>1147</td>\n    </tr>\n    <tr>\n      <th>Need Attention</th>\n      <td>135</td>\n      <td>269</td>\n      <td>3</td>\n      <td>269</td>\n      <td>1283</td>\n      <td>269</td>\n    </tr>\n    <tr>\n      <th>New Customers</th>\n      <td>32</td>\n      <td>56</td>\n      <td>1</td>\n      <td>56</td>\n      <td>356</td>\n      <td>56</td>\n    </tr>\n    <tr>\n      <th>Potential Loyalists</th>\n      <td>47</td>\n      <td>713</td>\n      <td>3</td>\n      <td>713</td>\n      <td>1155</td>\n      <td>713</td>\n    </tr>\n    <tr>\n      <th>Promising</th>\n      <td>60</td>\n      <td>110</td>\n      <td>1</td>\n      <td>110</td>\n      <td>324</td>\n      <td>110</td>\n    </tr>\n  </tbody>\n</table>\n</div>"
     },
     "metadata": {},
     "execution_count": 72
    }
   ],
   "source": [
    "rfm_table[[\"Segment\", \"Recency\",\"Frequency\",\"Monetary\"]].groupby(\"Segment\").agg([\"mean\",\"count\"])"
   ]
  },
  {
   "cell_type": "markdown",
   "metadata": {},
   "source": [
    "We grouped the rfm table according to the mean and count values of the segment variable."
   ]
  },
  {
   "cell_type": "markdown",
   "metadata": {},
   "source": [
    "## Remark: \n",
    "\n",
    "3 segments selected for evaluation are \"Can't Lose\", \"Hibernating\" and \"Champions\".\n",
    "\n",
    "Number of customers for segments:\n",
    "\n",
    "Can't Lose = 71, Hibernating = 1522, Champions = 852\n",
    "\n",
    "\n",
    "- Can't Lose Segment;\n",
    "\n",
    "    - The last shopping date of the customers is on average 353 days before.\n",
    "    - Customers have made an average of 16 purchases.\n",
    "    - Customers spent an average of £ 8356.\n",
    "\n",
    "\n",
    "- Hibernating Segment;\n",
    "\n",
    "    - The last shopping date of the customers is 481 days before average.\n",
    "    - Customers made an average of 1 purchases.\n",
    "    - Customers spent an average of £ 438.\n",
    "\n",
    "\n",
    "- Champions Segment;\n",
    "\n",
    "    - The last shopping date of the customers is 30 days before average.\n",
    "    - Customers made an average of 19 purchases.\n",
    "    - Customers spent an average of £ 10796.\n"
   ]
  },
  {
   "cell_type": "markdown",
   "metadata": {},
   "source": [
    "- Can't Lose Segment;\n",
    "\n",
    "    - Customers in this segment have not recently made a purchase. For this reason, we need to prepare a discount and gift campaign for this segment. These customers made a large number of purchases when they made purchases before. However, recency values are lower than they should be. The campaign to be implemented for these customers should include both items purchased and recommendations based on previous activities. New and popular products associated with the products that they were interested in can also be included in this campaign. Situations that will cause these customers to stop buying need to be investigated.\n",
    "\n",
    "\n",
    "- Hibernating Segment;\n",
    "\n",
    "    - Customers in this segment have not made a purchase for a long time. However, by offering discounts, they may be attracted to another purchase.\n",
    "\n",
    "\n",
    "- Champions Segment;\n",
    "\n",
    "    - Customers in this segment are responsible for most of the revenue. Campaigns should be implemented to ensure the continuity of the shopping of these customers."
   ]
  },
  {
   "cell_type": "markdown",
   "metadata": {},
   "source": [
    "Resources;\n",
    "- https://docs.exponea.com/docs/rfm-segmentation\n",
    "\n",
    "- Recency and Frequency Grid Image: https://clevertap.com/blog/automate-user-segmentation-with-rfm-analysis/"
   ]
  }
 ],
 "metadata": {
  "kernelspec": {
   "name": "python3",
   "display_name": "Python 3.9.5 64-bit ('venv': venv)"
  },
  "language_info": {
   "codemirror_mode": {
    "name": "ipython",
    "version": 3
   },
   "file_extension": ".py",
   "mimetype": "text/x-python",
   "name": "python",
   "nbconvert_exporter": "python",
   "pygments_lexer": "ipython3",
   "version": "3.9.5"
  },
  "interpreter": {
   "hash": "f79b083b93e31849541153e18d7629d66d82d2ff6485732e43f16e6ae79e9377"
  }
 },
 "nbformat": 4,
 "nbformat_minor": 4
}